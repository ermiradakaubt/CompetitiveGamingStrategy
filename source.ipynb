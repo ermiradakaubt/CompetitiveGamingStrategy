{
 "cells": [
  {
   "metadata": {
    "collapsed": true,
    "ExecuteTime": {
     "end_time": "2025-02-10T20:49:36.732442Z",
     "start_time": "2025-02-10T20:49:36.251960Z"
    }
   },
   "cell_type": "code",
   "source": [
    "import pandas as pd\n",
    "\n",
    "df = pd.read_csv('csgo_round_snapshots.csv')\n",
    "df = df.drop(columns=['time_left'])\n",
    "\n",
    "df.head()"
   ],
   "id": "initial_id",
   "outputs": [
    {
     "data": {
      "text/plain": [
       "   ct_score  t_score       map  bomb_planted  ct_health  t_health  ct_armor  \\\n",
       "0       0.0      0.0  de_dust2         False      500.0     500.0       0.0   \n",
       "1       0.0      0.0  de_dust2         False      500.0     500.0     400.0   \n",
       "2       0.0      0.0  de_dust2         False      391.0     400.0     294.0   \n",
       "3       0.0      0.0  de_dust2         False      391.0     400.0     294.0   \n",
       "4       1.0      0.0  de_dust2         False      500.0     500.0     192.0   \n",
       "\n",
       "   t_armor  ct_money  t_money  ...  t_grenade_flashbang  \\\n",
       "0      0.0    4000.0   4000.0  ...                  0.0   \n",
       "1    300.0     600.0    650.0  ...                  0.0   \n",
       "2    200.0     750.0    500.0  ...                  0.0   \n",
       "3    200.0     750.0    500.0  ...                  0.0   \n",
       "4      0.0   18350.0  10750.0  ...                  0.0   \n",
       "\n",
       "   ct_grenade_smokegrenade  t_grenade_smokegrenade  \\\n",
       "0                      0.0                     0.0   \n",
       "1                      0.0                     2.0   \n",
       "2                      0.0                     2.0   \n",
       "3                      0.0                     0.0   \n",
       "4                      0.0                     0.0   \n",
       "\n",
       "   ct_grenade_incendiarygrenade  t_grenade_incendiarygrenade  \\\n",
       "0                           0.0                          0.0   \n",
       "1                           0.0                          0.0   \n",
       "2                           0.0                          0.0   \n",
       "3                           0.0                          0.0   \n",
       "4                           0.0                          0.0   \n",
       "\n",
       "   ct_grenade_molotovgrenade  t_grenade_molotovgrenade  \\\n",
       "0                        0.0                       0.0   \n",
       "1                        0.0                       0.0   \n",
       "2                        0.0                       0.0   \n",
       "3                        0.0                       0.0   \n",
       "4                        0.0                       0.0   \n",
       "\n",
       "   ct_grenade_decoygrenade  t_grenade_decoygrenade  round_winner  \n",
       "0                      0.0                     0.0            CT  \n",
       "1                      0.0                     0.0            CT  \n",
       "2                      0.0                     0.0            CT  \n",
       "3                      0.0                     0.0            CT  \n",
       "4                      0.0                     0.0            CT  \n",
       "\n",
       "[5 rows x 96 columns]"
      ],
      "text/html": [
       "<div>\n",
       "<style scoped>\n",
       "    .dataframe tbody tr th:only-of-type {\n",
       "        vertical-align: middle;\n",
       "    }\n",
       "\n",
       "    .dataframe tbody tr th {\n",
       "        vertical-align: top;\n",
       "    }\n",
       "\n",
       "    .dataframe thead th {\n",
       "        text-align: right;\n",
       "    }\n",
       "</style>\n",
       "<table border=\"1\" class=\"dataframe\">\n",
       "  <thead>\n",
       "    <tr style=\"text-align: right;\">\n",
       "      <th></th>\n",
       "      <th>ct_score</th>\n",
       "      <th>t_score</th>\n",
       "      <th>map</th>\n",
       "      <th>bomb_planted</th>\n",
       "      <th>ct_health</th>\n",
       "      <th>t_health</th>\n",
       "      <th>ct_armor</th>\n",
       "      <th>t_armor</th>\n",
       "      <th>ct_money</th>\n",
       "      <th>t_money</th>\n",
       "      <th>...</th>\n",
       "      <th>t_grenade_flashbang</th>\n",
       "      <th>ct_grenade_smokegrenade</th>\n",
       "      <th>t_grenade_smokegrenade</th>\n",
       "      <th>ct_grenade_incendiarygrenade</th>\n",
       "      <th>t_grenade_incendiarygrenade</th>\n",
       "      <th>ct_grenade_molotovgrenade</th>\n",
       "      <th>t_grenade_molotovgrenade</th>\n",
       "      <th>ct_grenade_decoygrenade</th>\n",
       "      <th>t_grenade_decoygrenade</th>\n",
       "      <th>round_winner</th>\n",
       "    </tr>\n",
       "  </thead>\n",
       "  <tbody>\n",
       "    <tr>\n",
       "      <th>0</th>\n",
       "      <td>0.0</td>\n",
       "      <td>0.0</td>\n",
       "      <td>de_dust2</td>\n",
       "      <td>False</td>\n",
       "      <td>500.0</td>\n",
       "      <td>500.0</td>\n",
       "      <td>0.0</td>\n",
       "      <td>0.0</td>\n",
       "      <td>4000.0</td>\n",
       "      <td>4000.0</td>\n",
       "      <td>...</td>\n",
       "      <td>0.0</td>\n",
       "      <td>0.0</td>\n",
       "      <td>0.0</td>\n",
       "      <td>0.0</td>\n",
       "      <td>0.0</td>\n",
       "      <td>0.0</td>\n",
       "      <td>0.0</td>\n",
       "      <td>0.0</td>\n",
       "      <td>0.0</td>\n",
       "      <td>CT</td>\n",
       "    </tr>\n",
       "    <tr>\n",
       "      <th>1</th>\n",
       "      <td>0.0</td>\n",
       "      <td>0.0</td>\n",
       "      <td>de_dust2</td>\n",
       "      <td>False</td>\n",
       "      <td>500.0</td>\n",
       "      <td>500.0</td>\n",
       "      <td>400.0</td>\n",
       "      <td>300.0</td>\n",
       "      <td>600.0</td>\n",
       "      <td>650.0</td>\n",
       "      <td>...</td>\n",
       "      <td>0.0</td>\n",
       "      <td>0.0</td>\n",
       "      <td>2.0</td>\n",
       "      <td>0.0</td>\n",
       "      <td>0.0</td>\n",
       "      <td>0.0</td>\n",
       "      <td>0.0</td>\n",
       "      <td>0.0</td>\n",
       "      <td>0.0</td>\n",
       "      <td>CT</td>\n",
       "    </tr>\n",
       "    <tr>\n",
       "      <th>2</th>\n",
       "      <td>0.0</td>\n",
       "      <td>0.0</td>\n",
       "      <td>de_dust2</td>\n",
       "      <td>False</td>\n",
       "      <td>391.0</td>\n",
       "      <td>400.0</td>\n",
       "      <td>294.0</td>\n",
       "      <td>200.0</td>\n",
       "      <td>750.0</td>\n",
       "      <td>500.0</td>\n",
       "      <td>...</td>\n",
       "      <td>0.0</td>\n",
       "      <td>0.0</td>\n",
       "      <td>2.0</td>\n",
       "      <td>0.0</td>\n",
       "      <td>0.0</td>\n",
       "      <td>0.0</td>\n",
       "      <td>0.0</td>\n",
       "      <td>0.0</td>\n",
       "      <td>0.0</td>\n",
       "      <td>CT</td>\n",
       "    </tr>\n",
       "    <tr>\n",
       "      <th>3</th>\n",
       "      <td>0.0</td>\n",
       "      <td>0.0</td>\n",
       "      <td>de_dust2</td>\n",
       "      <td>False</td>\n",
       "      <td>391.0</td>\n",
       "      <td>400.0</td>\n",
       "      <td>294.0</td>\n",
       "      <td>200.0</td>\n",
       "      <td>750.0</td>\n",
       "      <td>500.0</td>\n",
       "      <td>...</td>\n",
       "      <td>0.0</td>\n",
       "      <td>0.0</td>\n",
       "      <td>0.0</td>\n",
       "      <td>0.0</td>\n",
       "      <td>0.0</td>\n",
       "      <td>0.0</td>\n",
       "      <td>0.0</td>\n",
       "      <td>0.0</td>\n",
       "      <td>0.0</td>\n",
       "      <td>CT</td>\n",
       "    </tr>\n",
       "    <tr>\n",
       "      <th>4</th>\n",
       "      <td>1.0</td>\n",
       "      <td>0.0</td>\n",
       "      <td>de_dust2</td>\n",
       "      <td>False</td>\n",
       "      <td>500.0</td>\n",
       "      <td>500.0</td>\n",
       "      <td>192.0</td>\n",
       "      <td>0.0</td>\n",
       "      <td>18350.0</td>\n",
       "      <td>10750.0</td>\n",
       "      <td>...</td>\n",
       "      <td>0.0</td>\n",
       "      <td>0.0</td>\n",
       "      <td>0.0</td>\n",
       "      <td>0.0</td>\n",
       "      <td>0.0</td>\n",
       "      <td>0.0</td>\n",
       "      <td>0.0</td>\n",
       "      <td>0.0</td>\n",
       "      <td>0.0</td>\n",
       "      <td>CT</td>\n",
       "    </tr>\n",
       "  </tbody>\n",
       "</table>\n",
       "<p>5 rows × 96 columns</p>\n",
       "</div>"
      ]
     },
     "execution_count": 3,
     "metadata": {},
     "output_type": "execute_result"
    }
   ],
   "execution_count": 3
  },
  {
   "cell_type": "code",
   "id": "1cb6643d2e4aeeb2",
   "metadata": {
    "collapsed": false,
    "ExecuteTime": {
     "end_time": "2025-02-10T20:49:48.339531Z",
     "start_time": "2025-02-10T20:49:36.770921Z"
    }
   },
   "source": [
    "from sklearn.model_selection import train_test_split\n",
    "\n",
    "X = df.drop('round_winner', axis=1)\n",
    "y = df['round_winner']\n",
    "\n",
    "X_train, X_test, y_train, y_test = train_test_split(X, y, test_size=0.2, random_state=42)\n",
    "\n",
    "categorical_cols = X_train.select_dtypes(include=['object', 'bool']).columns\n",
    "numerical_cols = X_train.select_dtypes(include=['int64', 'float64']).columns\n",
    "\n",
    "from sklearn.preprocessing import StandardScaler, OneHotEncoder\n",
    "from sklearn.pipeline import Pipeline\n",
    "\n",
    "numeric_transformer = Pipeline(steps=[\n",
    "    ('scaler', StandardScaler())\n",
    "])\n",
    "\n",
    "categorical_transformer = Pipeline(steps=[\n",
    "    ('onehot', OneHotEncoder(handle_unknown='ignore'))\n",
    "])\n",
    "\n",
    "from sklearn.compose import ColumnTransformer\n",
    "\n",
    "preprocessor = ColumnTransformer(\n",
    "    transformers=[\n",
    "        ('num', numeric_transformer, numerical_cols),\n",
    "        ('cat', categorical_transformer, categorical_cols)\n",
    "    ])\n",
    "\n",
    "from sklearn.ensemble import RandomForestClassifier\n",
    "\n",
    "rf_pipeline = Pipeline(steps=[('preprocessor', preprocessor),\n",
    "                              ('classifier', RandomForestClassifier(n_estimators=100, random_state=42))])\n",
    "\n",
    "from sklearn.metrics import accuracy_score\n",
    "\n",
    "rf_pipeline.fit(X_train, y_train)\n",
    "\n",
    "y_pred = rf_pipeline.predict(X_test)\n",
    "\n",
    "accuracy = accuracy_score(y_test, y_pred)\n",
    "print(f\"Model accuracy: {accuracy:.2f}\")"
   ],
   "outputs": [
    {
     "name": "stdout",
     "output_type": "stream",
     "text": [
      "Model accuracy: 0.89\n"
     ]
    }
   ],
   "execution_count": 4
  },
  {
   "cell_type": "code",
   "id": "dbb140643d322968",
   "metadata": {
    "collapsed": false,
    "ExecuteTime": {
     "end_time": "2025-02-10T20:49:48.399791Z",
     "start_time": "2025-02-10T20:49:48.380764Z"
    }
   },
   "source": [
    "feature_importances = rf_pipeline.named_steps['classifier'].feature_importances_\n",
    "\n",
    "ohe_columns = rf_pipeline.named_steps['preprocessor'].named_transformers_['cat'].named_steps['onehot'].get_feature_names_out(input_features=categorical_cols)\n",
    "\n",
    "all_columns = numerical_cols.to_list() + ohe_columns.tolist()\n",
    "\n",
    "sorted_importances = sorted(zip(feature_importances, all_columns), reverse=True)\n",
    "\n",
    "for feature in sorted_importances:\n",
    "    print(f\"{feature[1]}: {feature[0]}\")"
   ],
   "outputs": [
    {
     "name": "stdout",
     "output_type": "stream",
     "text": [
      "t_armor: 0.07792708873623964\n",
      "ct_armor: 0.07448305748380847\n",
      "t_money: 0.05816446141789404\n",
      "ct_money: 0.055615249825545804\n",
      "t_helmets: 0.044120744828472475\n",
      "t_score: 0.034225230946839665\n",
      "ct_score: 0.03371086274970448\n",
      "t_health: 0.033294643135306\n",
      "ct_health: 0.03297414438553162\n",
      "ct_defuse_kits: 0.03009553059308894\n",
      "t_weapon_ak47: 0.027544133999794513\n",
      "ct_helmets: 0.026432908911991983\n",
      "ct_grenade_flashbang: 0.025526814375303762\n",
      "t_grenade_flashbang: 0.0234035661833187\n",
      "t_players_alive: 0.021053044048052087\n",
      "t_weapon_glock: 0.020680282173165688\n",
      "ct_grenade_smokegrenade: 0.019772868865734167\n",
      "ct_weapon_usps: 0.019742607818198726\n",
      "ct_weapon_m4a4: 0.018747178306453286\n",
      "ct_players_alive: 0.01735463681619242\n",
      "ct_grenade_incendiarygrenade: 0.01664369426557548\n",
      "t_weapon_sg553: 0.016626848990275177\n",
      "t_grenade_smokegrenade: 0.016456549071276538\n",
      "ct_grenade_hegrenade: 0.01572665930636922\n",
      "ct_weapon_awp: 0.015602942520485724\n",
      "t_grenade_molotovgrenade: 0.015333431334590232\n",
      "t_grenade_hegrenade: 0.010584081858666407\n",
      "ct_weapon_deagle: 0.009526881301994961\n",
      "t_weapon_p250: 0.009310193652956511\n",
      "ct_weapon_ak47: 0.008794659242711283\n",
      "t_weapon_deagle: 0.008613442617536972\n",
      "bomb_planted_False: 0.008584744795620911\n",
      "ct_weapon_p2000: 0.008186578198744956\n",
      "ct_weapon_sg553: 0.007523276971634918\n",
      "t_weapon_awp: 0.0069804638193752995\n",
      "ct_weapon_p250: 0.006767046371874614\n",
      "map_de_inferno: 0.006648419306719758\n",
      "map_de_dust2: 0.006545106132708089\n",
      "map_de_nuke: 0.006371015550138432\n",
      "map_de_mirage: 0.0062283357729884135\n",
      "bomb_planted_True: 0.006114596829676819\n",
      "ct_weapon_aug: 0.005990773649406144\n",
      "ct_weapon_cz75auto: 0.005814305813858836\n",
      "map_de_train: 0.0056032405714883556\n",
      "map_de_overpass: 0.005529134897406042\n",
      "ct_weapon_mp9: 0.005356700864826853\n",
      "map_de_vertigo: 0.004698691649287604\n",
      "t_weapon_usps: 0.004621381560634402\n",
      "ct_weapon_famas: 0.004599211918449922\n",
      "t_weapon_galilar: 0.004242531912087008\n",
      "t_weapon_cz75auto: 0.004117510020303422\n",
      "ct_weapon_m4a1s: 0.003814713724331762\n",
      "t_weapon_mac10: 0.0037154452314881936\n",
      "ct_weapon_fiveseven: 0.0035190320785032005\n",
      "t_weapon_m4a4: 0.0027883232804092263\n",
      "ct_weapon_ump45: 0.0026909170440597135\n",
      "ct_grenade_decoygrenade: 0.0024715220530911646\n",
      "ct_weapon_ssg08: 0.0024571311847154105\n",
      "t_grenade_decoygrenade: 0.002375075725069351\n",
      "ct_grenade_molotovgrenade: 0.002321725416370368\n",
      "t_weapon_ump45: 0.0019385313521787977\n",
      "t_weapon_tec9: 0.001841904936044645\n",
      "t_grenade_incendiarygrenade: 0.0013668637892674984\n",
      "t_weapon_ssg08: 0.001286494421806458\n",
      "ct_weapon_glock: 0.0008484818250071045\n",
      "ct_weapon_xm1014: 0.0007955375515401369\n",
      "ct_weapon_elite: 0.0007487977236955057\n",
      "ct_weapon_galilar: 0.0007071447898877605\n",
      "ct_weapon_tec9: 0.0006153575222651418\n",
      "t_weapon_fiveseven: 0.0006127887233987416\n",
      "ct_weapon_mac10: 0.0005896988316639978\n",
      "t_weapon_aug: 0.0005656028123783367\n",
      "ct_weapon_mag7: 0.00043927242596693506\n",
      "t_weapon_p2000: 0.0003440340111741019\n",
      "t_weapon_mp9: 0.0003341894164521821\n",
      "ct_weapon_mp7: 0.0003079170797104234\n",
      "t_weapon_m4a1s: 0.00026059857734269087\n",
      "t_weapon_famas: 0.00023585457621523757\n",
      "t_weapon_elite: 0.0002181132184674499\n",
      "ct_weapon_nova: 0.0002118113475978575\n",
      "t_weapon_mp7: 0.00020927443182352747\n",
      "t_weapon_mp5sd: 0.00020117409698335763\n",
      "ct_weapon_mp5sd: 0.00015484294200196445\n",
      "map_de_cache: 0.00013796202590749646\n",
      "ct_weapon_scar20: 7.925102820396376e-05\n",
      "t_weapon_g3sg1: 5.454278866628914e-05\n",
      "t_weapon_xm1014: 3.774257377871855e-05\n",
      "t_weapon_sawedoff: 2.757285429322933e-05\n",
      "ct_weapon_p90: 2.3773417698004315e-05\n",
      "t_weapon_nova: 1.929134079202674e-05\n",
      "t_weapon_p90: 1.3533300061152917e-05\n",
      "t_weapon_bizon: 3.899383975297864e-06\n",
      "t_weapon_r8revolver: 1.121931454219065e-06\n",
      "t_weapon_negev: 9.463680420433844e-07\n",
      "t_weapon_mag7: 3.7676168773741674e-07\n",
      "t_weapon_scar20: 3.077142257614257e-07\n",
      "t_weapon_m249: 0.0\n",
      "ct_weapon_sawedoff: 0.0\n",
      "ct_weapon_r8revolver: 0.0\n",
      "ct_weapon_negev: 0.0\n",
      "ct_weapon_m249: 0.0\n",
      "ct_weapon_g3sg1: 0.0\n",
      "ct_weapon_bizon: 0.0\n"
     ]
    }
   ],
   "execution_count": 5
  },
  {
   "cell_type": "code",
   "id": "b9747ec1520fa877",
   "metadata": {
    "collapsed": false,
    "ExecuteTime": {
     "end_time": "2025-02-10T20:50:00.311244Z",
     "start_time": "2025-02-10T20:49:48.522097Z"
    }
   },
   "source": [
    "non_zero_importance_feature_names = [name for importance, name in sorted_importances if importance > 0]\n",
    "\n",
    "important_features = [col for col in numerical_cols if col in non_zero_importance_feature_names] + \\\n",
    "                     [col for col in categorical_cols if col in non_zero_importance_feature_names]\n",
    "\n",
    "preprocessor_adjusted = ColumnTransformer(\n",
    "    transformers=[\n",
    "        ('num', numeric_transformer, [col for col in numerical_cols if col in important_features]),\n",
    "        ('cat', categorical_transformer, [col for col in categorical_cols if col in important_features])\n",
    "    ])\n",
    "\n",
    "rf_pipeline_adjusted = Pipeline(steps=[\n",
    "    ('preprocessor', preprocessor_adjusted),\n",
    "    ('classifier', RandomForestClassifier(n_estimators=100, random_state=42))\n",
    "])\n",
    "\n",
    "X_train_adjusted = X_train[important_features]\n",
    "X_test_adjusted = X_test[important_features]\n",
    "rf_pipeline_adjusted.fit(X_train_adjusted, y_train)\n",
    "\n",
    "y_pred_adjusted = rf_pipeline_adjusted.predict(X_test_adjusted)\n",
    "accuracy_adjusted = accuracy_score(y_test, y_pred_adjusted)\n",
    "\n",
    "print(f\"Adjusted Model Accuracy: {accuracy_adjusted:.2f}\")"
   ],
   "outputs": [
    {
     "name": "stdout",
     "output_type": "stream",
     "text": [
      "Adjusted Model Accuracy: 0.88\n"
     ]
    }
   ],
   "execution_count": 6
  },
  {
   "cell_type": "code",
   "id": "310a3637709b08d4",
   "metadata": {
    "collapsed": false,
    "ExecuteTime": {
     "end_time": "2025-02-10T20:51:45.451274Z",
     "start_time": "2025-02-10T20:50:00.489834Z"
    }
   },
   "source": [
    "from sklearn.model_selection import cross_val_score\n",
    "import numpy as np\n",
    "\n",
    "cv_scores = cross_val_score(\n",
    "    rf_pipeline_adjusted,\n",
    "    X_train_adjusted,\n",
    "    y_train,\n",
    "    cv=10,\n",
    "    scoring='accuracy')\n",
    "\n",
    "cv_scores_mean = np.mean(cv_scores)\n",
    "cv_scores_std = np.std(cv_scores)\n",
    "\n",
    "print(f\"Mean CV Accuracy: {cv_scores_mean:.2f}\")\n",
    "print(f\"CV Accuracy Standard Deviation: {cv_scores_std:.2f}\")"
   ],
   "outputs": [
    {
     "name": "stdout",
     "output_type": "stream",
     "text": [
      "Mean CV Accuracy: 0.87\n",
      "CV Accuracy Standard Deviation: 0.00\n"
     ]
    }
   ],
   "execution_count": 7
  },
  {
   "cell_type": "code",
   "id": "8c2fc724793755c4",
   "metadata": {
    "collapsed": false,
    "ExecuteTime": {
     "end_time": "2025-02-10T20:51:46.189283Z",
     "start_time": "2025-02-10T20:51:45.518176Z"
    }
   },
   "source": [
    "from sklearn.metrics import confusion_matrix, ConfusionMatrixDisplay\n",
    "\n",
    "cm = confusion_matrix(y_test, y_pred)\n",
    "disp = ConfusionMatrixDisplay(confusion_matrix=cm, display_labels=rf_pipeline.classes_)\n",
    "\n",
    "import matplotlib.pyplot as plt\n",
    "\n",
    "disp.plot(cmap=plt.cm.Blues)\n",
    "plt.title('Confusion Matrix')\n",
    "plt.show()"
   ],
   "outputs": [
    {
     "data": {
      "text/plain": [
       "<Figure size 640x480 with 2 Axes>"
      ],
      "image/png": "[encoded data removed]"
     },
     "metadata": {},
     "output_type": "display_data"
    }
   ],
   "execution_count": 8
  },
  {
   "cell_type": "code",
   "id": "26e764028f2cf94c",
   "metadata": {
    "collapsed": false,
    "ExecuteTime": {
     "end_time": "2025-02-10T20:51:46.873797Z",
     "start_time": "2025-02-10T20:51:46.345769Z"
    }
   },
   "source": [
    "y_pred_prob_adjusted = rf_pipeline_adjusted.predict_proba(X_test_adjusted)\n",
    "\n",
    "from sklearn.metrics import roc_curve, auc\n",
    "\n",
    "positive_class_prob_adjusted = y_pred_prob_adjusted[:, 1]\n",
    "\n",
    "fpr_adjusted, tpr_adjusted, _ = roc_curve(y_test, positive_class_prob_adjusted, pos_label='T')\n",
    "roc_auc_adjusted = auc(fpr_adjusted, tpr_adjusted)\n",
    "\n",
    "print(f\"Adjusted AUC: {roc_auc_adjusted:.2f}\")\n",
    "\n",
    "plt.figure(figsize=(10, 8))\n",
    "plt.plot(fpr_adjusted, tpr_adjusted, color='blue',\n",
    "         lw=2, label='ROC curve (area = %0.2f)' % roc_auc_adjusted)\n",
    "plt.plot([0, 1], [0, 1], color='navy', lw=2, linestyle='--')\n",
    "plt.xlim([0.0, 1.0])\n",
    "plt.ylim([0.0, 1.05])\n",
    "plt.xlabel('False Positive Rate')\n",
    "plt.ylabel('True Positive Rate')\n",
    "plt.title('Receiver Operating Characteristic (ROC) - Adjusted Model')\n",
    "plt.legend(loc=\"lower right\")\n",
    "plt.show()"
   ],
   "outputs": [
    {
     "name": "stdout",
     "output_type": "stream",
     "text": [
      "Adjusted AUC: 0.95\n"
     ]
    },
    {
     "data": {
      "text/plain": [
       "<Figure size 1000x800 with 1 Axes>"
      ],
      "image/png": "[encoded data removed]"
     },
     "metadata": {},
     "output_type": "display_data"
    }
   ],
   "execution_count": 9
  },
  {
   "cell_type": "code",
   "id": "fd34a204518dc20a",
   "metadata": {
    "collapsed": false,
    "ExecuteTime": {
     "end_time": "2025-02-10T20:51:46.966369Z",
     "start_time": "2025-02-10T20:51:46.880643Z"
    }
   },
   "source": [
    "positive_class_probabilities = y_pred_prob_adjusted[:, 1]\n",
    "\n",
    "from sklearn.metrics import precision_recall_curve\n",
    "\n",
    "precision, recall, thresholds = precision_recall_curve(y_test, positive_class_probabilities, pos_label='CT')\n",
    "\n",
    "average_precision = auc(recall, precision)\n",
    "\n",
    "plt.figure(figsize=(8, 6))\n",
    "plt.step(recall, precision, where='post', color='b', alpha=0.7,\n",
    "         label='Precision-Recall curve (area = %0.2f)' % average_precision)\n",
    "\n",
    "print(f\"The AUC-PR score is: {average_precision:.2f}\")\n",
    "\n",
    "plt.xlabel('Recall')\n",
    "plt.ylabel('Precision')\n",
    "plt.ylim([0.0, 1.05])\n",
    "plt.xlim([0.0, 1.0])\n",
    "plt.title('Precision-Recall Curve - Adjusted Model')\n",
    "plt.legend(loc='upper right')\n",
    "plt.show()"
   ],
   "outputs": [
    {
     "name": "stdout",
     "output_type": "stream",
     "text": [
      "The AUC-PR score is: 0.30\n"
     ]
    },
    {
     "data": {
      "text/plain": [
       "<Figure size 800x600 with 1 Axes>"
      ],
      "image/png": "[encoded data removed]"
     },
     "metadata": {},
     "output_type": "display_data"
    }
   ],
   "execution_count": 10
  },
  {
   "cell_type": "code",
   "id": "7f7a58c9352381cc",
   "metadata": {
    "ExecuteTime": {
     "end_time": "2025-02-10T20:53:06.784181Z",
     "start_time": "2025-02-10T20:53:06.734724Z"
    }
   },
   "source": [
    "from sklearn.metrics import accuracy_score, classification_report\n",
    "\n",
    "df_new = pd.read_csv(\"result.csv\") # result_mirage.csv\n",
    "X_new = df_new.drop(columns=['round_winner', 'round_number'])\n",
    "\n",
    "df = df.loc[:, ~df.columns.duplicated()]\n",
    "\n",
    "df_new.columns = df_new.columns.str.strip()\n",
    "\n",
    "predictions = rf_pipeline_adjusted.predict(X_new)\n",
    "\n",
    "df_new['predicted_winner'] = predictions\n",
    "accuracy = accuracy_score(df_new['round_winner'], df_new['predicted_winner'])\n",
    "print(f\"Prediction Accuracy: {accuracy:.2f}\")\n",
    "\n",
    "print(classification_report(df_new['round_winner'], df_new['predicted_winner']))"
   ],
   "outputs": [
    {
     "name": "stdout",
     "output_type": "stream",
     "text": [
      "Prediction Accuracy: 0.91\n",
      "              precision    recall  f1-score   support\n",
      "\n",
      "          CT       1.00      0.82      0.90        11\n",
      "           T       0.85      1.00      0.92        11\n",
      "\n",
      "    accuracy                           0.91        22\n",
      "   macro avg       0.92      0.91      0.91        22\n",
      "weighted avg       0.92      0.91      0.91        22\n",
      "\n"
     ]
    }
   ],
   "execution_count": 14
  },
  {
   "metadata": {
    "ExecuteTime": {
     "end_time": "2025-02-10T20:55:04.344235Z",
     "start_time": "2025-02-10T20:55:04.269369Z"
    }
   },
   "cell_type": "code",
   "source": [
    "from sklearn.model_selection import train_test_split\n",
    "from sklearn.preprocessing import StandardScaler, OneHotEncoder\n",
    "from sklearn.compose import ColumnTransformer\n",
    "from sklearn.pipeline import Pipeline\n",
    "from sklearn.ensemble import RandomForestClassifier\n",
    "\n",
    "df = pd.read_csv(\"result_mirage.csv\", skip_blank_lines=False) # result.csv for mirage\n",
    "\n",
    "df.columns = df.columns.str.strip()\n",
    "\n",
    "X = df.drop(columns=['round_winner'])\n",
    "y = df['round_winner']\n",
    "\n",
    "X_train, X_test, y_train, y_test = train_test_split(X, y, test_size=0.2, random_state=42)\n",
    "\n",
    "categorical_cols = X_train.select_dtypes(include=['object', 'bool']).columns\n",
    "numerical_cols = X_train.select_dtypes(include=['int64', 'float64']).columns\n",
    "\n",
    "numeric_transformer = Pipeline(steps=[('scaler', StandardScaler())])\n",
    "categorical_transformer = Pipeline(steps=[('onehot', OneHotEncoder(handle_unknown='ignore'))])\n",
    "\n",
    "preprocessor = ColumnTransformer(\n",
    "    transformers=[\n",
    "        ('num', numeric_transformer, numerical_cols),\n",
    "        ('cat', categorical_transformer, categorical_cols)\n",
    "    ])\n",
    "\n",
    "rf_pipeline_adjusted = Pipeline(steps=[\n",
    "    ('preprocessor', preprocessor),\n",
    "    ('classifier', RandomForestClassifier(n_estimators=100, random_state=42))\n",
    "])\n",
    "\n",
    "rf_pipeline_adjusted.fit(X_train, y_train)\n",
    "\n",
    "test_case_1 = df.iloc[12]\n",
    "test_case_2 = df.iloc[26]\n",
    "# test_case_3 = df.iloc[0]  # inferno\n",
    "# test_case_4 = df.iloc[13] # inferno\n",
    "\n",
    "test_cases_df = pd.DataFrame([test_case_1, test_case_2])\n",
    "X_test_cases = test_cases_df.drop(columns=['round_winner'])\n",
    "\n",
    "predictions = rf_pipeline_adjusted.predict(X_test_cases)\n",
    "\n",
    "test_cases_df['predicted_winner'] = predictions\n",
    "\n",
    "print(test_cases_df[['map', 'bomb_planted', 'ct_players_alive', 't_players_alive', 'round_winner', 'predicted_winner']])"
   ],
   "id": "889dd9db5cf23928",
   "outputs": [
    {
     "name": "stdout",
     "output_type": "stream",
     "text": [
      "          map  bomb_planted  ct_players_alive  t_players_alive round_winner  \\\n",
      "12  de_mirage         False                 1                4            T   \n",
      "26  de_mirage          True                 4                2           CT   \n",
      "\n",
      "   predicted_winner  \n",
      "12                T  \n",
      "26               CT  \n"
     ]
    }
   ],
   "execution_count": 16
  }
 ],
 "metadata": {
  "kernelspec": {
   "display_name": "Python 3",
   "language": "python",
   "name": "python3"
  },
  "language_info": {
   "codemirror_mode": {
    "name": "ipython",
    "version": 3
   },
   "file_extension": ".py",
   "mimetype": "text/x-python",
   "name": "python",
   "nbconvert_exporter": "python",
   "pygments_lexer": "ipython3",
   "version": "3.9.6"
  }
 },
 "nbformat": 4,
 "nbformat_minor": 5
}
